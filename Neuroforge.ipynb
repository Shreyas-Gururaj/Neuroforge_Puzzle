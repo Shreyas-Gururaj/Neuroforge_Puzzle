{
 "cells": [
  {
   "cell_type": "code",
   "execution_count": 21,
   "metadata": {},
   "outputs": [],
   "source": [
    "import math\r\n",
    "\r\n",
    "# Numpy is only required to save the key maps as a nd array and for the test routines\r\n",
    "import numpy as np"
   ]
  },
  {
   "cell_type": "code",
   "execution_count": 22,
   "metadata": {},
   "outputs": [],
   "source": [
    "# Capturing all the possible maps from each key in the dialpad as 1 for all the possible edges in the graph\r\n",
    "# where each key is represented as a node respectively.\r\n",
    "\r\n",
    "possible_dials = {\r\n",
    "  0: (0, 0, 0, 0, 1, 0, 1, 0, 0, 0),\r\n",
    "  1: (0, 0, 0, 0, 0, 0, 1, 0, 1, 0),\r\n",
    "  2: (0, 0, 0, 0, 0, 0, 0, 1, 0, 1),\r\n",
    "  3: (0, 0, 0, 0, 1, 0, 0, 0, 1, 0),\r\n",
    "  4: (1, 0, 0, 1, 0, 0, 0, 0, 0, 1),\r\n",
    "  5: (0, 0, 0, 0, 0, 0, 0, 0, 0, 0),\r\n",
    "  6: (1, 1, 0, 0, 0, 0, 0, 1, 0, 0),\r\n",
    "  7: (0, 0, 1, 0, 0, 0, 1, 0, 0, 0),\r\n",
    "  8: (0, 1, 0, 1, 0, 0, 0, 0, 0 ,0),\r\n",
    "  9: (0, 0, 1, 0, 1, 0, 0, 0, 0, 0),\r\n",
    "}"
   ]
  },
  {
   "cell_type": "code",
   "execution_count": 23,
   "metadata": {},
   "outputs": [],
   "source": [
    "# Converting the map above into a matrix for further operations.\r\n",
    "\r\n",
    "matrix_possible_dials = np.float64(np.vstack((possible_dials[0],possible_dials[1],possible_dials[2],\r\n",
    "                                   possible_dials[3],possible_dials[4],possible_dials[5],\r\n",
    "                                   possible_dials[6],possible_dials[7],possible_dials[8],\r\n",
    "                                   possible_dials[9])))"
   ]
  },
  {
   "cell_type": "markdown",
   "metadata": {},
   "source": [
    "## The count for 0 hops is trivial as there is only 1 possibility for each key. But for number of hops, N > 1, the count of possibilities for each key is represented by the elements of the vector obtained by N times matrix vector product starting from the trivial case with vector of all entries as 1's (i.e N = 0), and replacing the new vector every time starting from N = 0. Each element in the final vector represents the number of possibilities for each key starting from 0 to 9."
   ]
  },
  {
   "cell_type": "markdown",
   "metadata": {},
   "source": [
    "## The shape of the Matrix is (10,10) and the vector is (10,1). But the sparsity of the matrix would allow us to further exploit the problem and store the Matrix in the compressed row storage (CRS) format. For large N's, it would make an impact as the matrix has only 20 non zero elements and requires only 20 element wise product to compute a new vector per each hop as opposed to 1000 for the dense matrix with zeros."
   ]
  },
  {
   "cell_type": "markdown",
   "metadata": {},
   "source": [
    "## CRS or Yale format consist of three arrays 1) v - non zero values of A. 2) j - column indices of the values. 3) i - to store the\r\n",
    "## beginning and end of each row in form of the first index of the current and the next row. The lenght of i is always M + 1 if M is the number of rows"
   ]
  },
  {
   "cell_type": "markdown",
   "metadata": {},
   "source": [
    "# Solving the same problem Without using built in modules"
   ]
  },
  {
   "cell_type": "code",
   "execution_count": 24,
   "metadata": {},
   "outputs": [],
   "source": [
    "# Function to convert a given dense matrix into a sparse Compressed row storage format.\r\n",
    "\r\n",
    "def crs_storage(dense_matrix):\r\n",
    "    non_zero_values = []\r\n",
    "    column_index = []\r\n",
    "    row_count = [0]    # Initialize the count of non-zero elements before the beginning of the first row to 0\r\n",
    "    counter = 0\r\n",
    "    for i in range(dense_matrix.shape[0]):      # Tracing the rows\r\n",
    "        for j in range(dense_matrix.shape[1]):  # Tracing the columns\r\n",
    "            if(dense_matrix[i][j] != 0):\r\n",
    "                non_zero_values.append(dense_matrix[i][j])\r\n",
    "                column_index.append(j)\r\n",
    "                counter = counter + 1\r\n",
    "        row_count.append(counter)\r\n",
    "    \r\n",
    "    return (non_zero_values, column_index, row_count)"
   ]
  },
  {
   "cell_type": "code",
   "execution_count": 25,
   "metadata": {},
   "outputs": [],
   "source": [
    "# CRS Matrix Vector multiplication\r\n",
    "\r\n",
    "def crs_matrix_vector_multiplication(values, column, row, vector_count, vector_count_new):\r\n",
    "    for i in range(len(row)-1):\r\n",
    "        for j in range(row[i], row[i+1], 1):\r\n",
    "            vector_count_new[i] += (vector_count[column[j]]*values[j])\r\n",
    "    return vector_count_new"
   ]
  },
  {
   "cell_type": "code",
   "execution_count": 26,
   "metadata": {},
   "outputs": [],
   "source": [
    "# Initiate count arrays for each key in the dialpad by 1 as we can press each key for the hops=0\r\n",
    "\r\n",
    "def initiate_count_array(count_array_temp):\r\n",
    "    for k in range(matrix_possible_dials.shape[0]):\r\n",
    "        count_array_temp.append(1)\r\n",
    "    return count_array_temp"
   ]
  },
  {
   "cell_type": "code",
   "execution_count": 27,
   "metadata": {},
   "outputs": [],
   "source": [
    "\r\n",
    "# Function to calculate the sum of all the elements of a vector\r\n",
    "\r\n",
    "def arraySum(array_temp):\r\n",
    "    result = 0\r\n",
    "    for i in range(len(array_temp)):\r\n",
    "        result += array_temp[i]\r\n",
    "    return result"
   ]
  },
  {
   "cell_type": "code",
   "execution_count": 28,
   "metadata": {},
   "outputs": [],
   "source": [
    "# Function to calculate the euclidean norm of a vector\r\n",
    "\r\n",
    "def vector_euclidean_norm(vector_x):\r\n",
    "    result_norm = 0.0\r\n",
    "    for elem in range(len(vector_x)):\r\n",
    "        result_norm += (vector_x[elem] * vector_x[elem])\r\n",
    "    return math.sqrt(result_norm)"
   ]
  },
  {
   "cell_type": "code",
   "execution_count": 29,
   "metadata": {},
   "outputs": [],
   "source": [
    "# Function to compute total number of possible dials starting fram each key based on given \"N\" hops\r\n",
    "\r\n",
    "def count_N_runs(N):\r\n",
    "    count_array_result = []\r\n",
    "    count_array_result = initiate_count_array(count_array_result)\r\n",
    "    for i in range(N):\r\n",
    "        Count_array_temp = [0] * matrix_possible_dials.shape[0]\r\n",
    "        count_array_result = crs_matrix_vector_multiplication(NonZeroValues, ColumnIndex, RowCount, \r\n",
    "                             count_array_result, Count_array_temp)\r\n",
    "    return count_array_result"
   ]
  },
  {
   "cell_type": "markdown",
   "metadata": {},
   "source": [
    "# Unit tests to check the correctness of each modular functions independent of the number of hops"
   ]
  },
  {
   "cell_type": "code",
   "execution_count": 30,
   "metadata": {},
   "outputs": [],
   "source": [
    "from scipy.sparse import csr_matrix, random\r\n",
    "\r\n",
    "# Test-1 tests the correctness of \"CRS_Storage\", \"CRSMatrix_vector_Multiplication\" and \"vector_eucledian_norm\" functions given a \r\n",
    "# dense matrix and a vector of matching shapes as input for test routine\r\n",
    "def test_1(dense_matrix, array_input, array_rhs, test_failure_count, epsilon):\r\n",
    "    assertion_statement = \"Mismatch in dimension and matrix vector product not possible\"\r\n",
    "    assert dense_matrix.shape[1] == len(array_input), assertion_statement\r\n",
    "\r\n",
    "    # Converting any given dense matrix into CRS sparse representation\r\n",
    "    values, column, row = crs_storage(dense_matrix)\r\n",
    "\r\n",
    "    # Initiating the temporary count array\r\n",
    "    Count_array_test = [0] * dense_matrix.shape[0]\r\n",
    "\r\n",
    "    # Computing matrix vector product\r\n",
    "    array_output = crs_matrix_vector_multiplication(values, column, row, array_input, Count_array_test)\r\n",
    "\r\n",
    "    # computing the eucledian norm of the vector obtained by taking the element wise \r\n",
    "    # known RHS and result of Matrix vector product and checking if the difference is less than epsilon\r\n",
    "    if(abs(vector_euclidean_norm(array_output) - vector_euclidean_norm(array_rhs)) > epsilon):\r\n",
    "        print(\"Test 1 failed\")\r\n",
    "        test_failure_count += 1\r\n",
    "\r\n",
    "    return test_failure_count\r\n",
    "\r\n",
    "# Function for initializing of all the variables required for test_1\r\n",
    "def init_test1_case1(size_identity, constant_array_element):\r\n",
    "    # Create an Identity matrix of size \"size_identity\" using numpy module\r\n",
    "    dense_test1_case1 = np.identity(size_identity)\r\n",
    "\r\n",
    "    # Create an array of only \"constant_array_element's\" of size \"size_identity\"\r\n",
    "    array_input_test1_case1 = [constant_array_element] * size_identity\r\n",
    "\r\n",
    "    # RHS of the matrix vector product is the same as input array\r\n",
    "    array_rhs_test1_case1 = array_input_test1_case1\r\n",
    "    \r\n",
    "    return (dense_test1_case1, array_input_test1_case1, array_rhs_test1_case1)\r\n",
    "\r\n",
    "# Function for initializing of all the variables required for test_1\r\n",
    "def init_test1_case2(size_matrix, constant_array_element):\r\n",
    "    # Create a random sparse from built in sci-py module of \"size_matrix\"\r\n",
    "    dense_test1_case2 = random(size_matrix, size_matrix, density=0.2, format='csr')\r\n",
    "\r\n",
    "    # Create an array of only \"constant_array_element's\" of size \"size_identity\"\r\n",
    "\r\n",
    "    array_input_test1_case2 = [constant_array_element] * size_matrix\r\n",
    "    \r\n",
    "    # RHS of the matrix vector product is the same as input array\r\n",
    "    array_rhs_test1_case2 = np.dot(dense_test1_case2.todense(), np.array(array_input_test1_case2))\r\n",
    "    array_rhs_test1_case2 = array_rhs_test1_case2.tolist()\r\n",
    "    array_rhs_test1_case2 = array_rhs_test1_case2[0]\r\n",
    "    return (dense_test1_case2, array_input_test1_case2, array_rhs_test1_case2)\r\n"
   ]
  },
  {
   "cell_type": "code",
   "execution_count": 31,
   "metadata": {},
   "outputs": [
    {
     "name": "stdout",
     "output_type": "stream",
     "text": [
      "All the test cases passed \n",
      "\n",
      "The count per key considering 100 hops is : \n",
      "    keys         count\n",
      "0     0  1.044129e+36\n",
      "1     1  8.447180e+35\n",
      "2     2  6.453071e+35\n",
      "3     3  8.447180e+35\n",
      "4     4  1.044129e+36\n",
      "5     5  0.000000e+00\n",
      "6     6  1.044129e+36\n",
      "7     7  8.447180e+35\n",
      "8     8  6.453071e+35\n",
      "9     9  8.447180e+35\n",
      "\n",
      "The sum of all the possibiliteis for all keys for 100 hops is 7.801872555471736e+36\n"
     ]
    }
   ],
   "source": [
    "import pandas as pd\r\n",
    "\r\n",
    "if __name__ == \"__main__\":\r\n",
    "\r\n",
    "     \r\n",
    "    # Fixing the epsilon\r\n",
    "    epsilon = 1e-10 # To account for the approximations due to floating point arithmetics\r\n",
    "\r\n",
    "    # Initializing the test_failure_count with 0\r\n",
    "    test_failure_count = 0\r\n",
    "    test_failure_count_main = 0\r\n",
    "    \r\n",
    "    # Testing routines\r\n",
    "\r\n",
    "    # Initializing and running test-1 and case-1 for these inputs\r\n",
    "    # Condition-1 -----> Large Dense matrix = Identity of size 10000\r\n",
    "    #             -----> Input vector = positive constant value(5.0) as all elements\r\n",
    "    #             -----> Expected output = Input vector\r\n",
    "    dense_test1_case1_1, array_input_test1_case1_1, array_rhs_test1_case1_1 = init_test1_case1(10000, 5.0)\r\n",
    "    test_failure_count_main += test_1(dense_test1_case1_1, array_input_test1_case1_1, array_rhs_test1_case1_1, \r\n",
    "                            test_failure_count, epsilon)\r\n",
    "\r\n",
    "    # Condition-2 -----> Small Dense matrix = Identity of size 1\r\n",
    "    #             -----> Input vector = large positive constant value(10000.0) as all elements\r\n",
    "    #             -----> Expected output = Input vector\r\n",
    "    dense_test1_case1_2, array_input_test1_case1_2, array_rhs_test1_case1_2 = init_test1_case1(1, 10000.0)\r\n",
    "    test_failure_count_main += test_1(dense_test1_case1_2, array_input_test1_case1_2, array_rhs_test1_case1_2, \r\n",
    "                            test_failure_count, epsilon)\r\n",
    "\r\n",
    "    # Condition-3 -----> Moderate Dense matrix = Identity of size 500\r\n",
    "    #             -----> Input vector = Negetive large constant value(-5000.0) as all elements\r\n",
    "    #             -----> Expected output = Input vector\r\n",
    "    dense_test1_case1_3, array_input_test1_case1_3, array_rhs_test1_case1_3 = init_test1_case1(500, -5000.0)\r\n",
    "    test_failure_count_main += test_1(dense_test1_case1_3, array_input_test1_case1_3, array_rhs_test1_case1_3, \r\n",
    "                            test_failure_count, epsilon)\r\n",
    "\r\n",
    "    # Initializing and running test-1 and case-2 for these inputs\r\n",
    "    # Condition-1 -----> Large Dense matrix = random matrix of size 1000\r\n",
    "    #             -----> Input vector = positive constant value(5.0) as all elements\r\n",
    "    #             -----> Expected output = Input vector\r\n",
    "    dense_test1_case2_1, array_input_test1_case2_1, array_rhs_test1_case2_1 = init_test1_case2(1000, 5.0)\r\n",
    "    test_failure_count_main += test_1((np.array(dense_test1_case2_1.todense())), array_input_test1_case2_1, array_rhs_test1_case2_1, \r\n",
    "                            test_failure_count, epsilon)\r\n",
    "\r\n",
    "    # Condition-2 -----> Small Dense matrix = random matrix of size 1\r\n",
    "    #             -----> Input vector = large positive constant value(10000.0) as all elements\r\n",
    "    #             -----> Expected output = Input vector\r\n",
    "    dense_test1_case2_2, array_input_test1_case2_2, array_rhs_test1_case2_2 = init_test1_case2(1, 10000.0)\r\n",
    "    test_failure_count_main += test_1((np.array(dense_test1_case2_2.todense())), array_input_test1_case2_2, array_rhs_test1_case2_2, \r\n",
    "                            test_failure_count, epsilon)\r\n",
    "\r\n",
    "    # Condition-3 -----> Moderate Dense matrix = random matrix of size 50\r\n",
    "    #             -----> Input vector = Negetive large constant value(-5000.0) as all elements\r\n",
    "    #             -----> Expected output = Input vector\r\n",
    "    dense_test1_case2_3, array_input_test1_case2_3, array_rhs_test1_case2_3 = init_test1_case2(50, -5000.0)\r\n",
    "    test_failure_count_main += test_1((np.array(dense_test1_case2_3.todense())), array_input_test1_case2_3, array_rhs_test1_case2_3, \r\n",
    "                            test_failure_count, epsilon)\r\n",
    "\r\n",
    "    if(test_failure_count_main == 0):\r\n",
    "        print(\"All the test cases passed \\n\")\r\n",
    "    else:\r\n",
    "        print(\"Please check the final count of the test_failure_count_main and run all the tests independently\")\r\n",
    "\r\n",
    "\r\n",
    "    # Once we know all the test cases are passed and all the function are working as intended, we can solve the main puzzle itself\r\n",
    "\r\n",
    "    # N = Number of Hops given as input\r\n",
    "    N = 100\r\n",
    "\r\n",
    "    # Using the CRS format for further computations\r\n",
    "    NonZeroValues, ColumnIndex, RowCount = crs_storage(matrix_possible_dials)\r\n",
    "\r\n",
    "    # Storing all the key in an array\r\n",
    "    dial_keys_array = [keys for keys in range(10)]\r\n",
    "\r\n",
    "    # Calling the function \"Count_array_nhops\" for computing the the number of possible outcomes for each key\r\n",
    "    count_array_nhops = count_N_runs(N)\r\n",
    "    \r\n",
    "    # Dataframe to represent counts for each key given N hops as input\r\n",
    "    dataframe_counts = pd.DataFrame(list(zip(dial_keys_array, count_array_nhops)), columns=['keys', 'count'])\r\n",
    "    print(\"The count per key considering {} hops is : \\n {}\".format(N,dataframe_counts))\r\n",
    "    print(\"\\nThe sum of all the possibiliteis for all keys for {} hops is {}\".format(N, arraySum(count_array_nhops)))\r\n"
   ]
  },
  {
   "cell_type": "markdown",
   "metadata": {},
   "source": [
    "# I would like to use the built in sci-py module to solve the same problem by storing the matrix in a sparse CRS format. At last we can compare the results with vanilla python implementation"
   ]
  },
  {
   "cell_type": "code",
   "execution_count": 32,
   "metadata": {},
   "outputs": [],
   "source": [
    "# Using compressed row storage format to store the elements of the matrix as the matrix is evidently sparse.\r\n",
    "matrix_possible_dials_crs = csr_matrix(matrix_possible_dials)"
   ]
  },
  {
   "cell_type": "code",
   "execution_count": 33,
   "metadata": {},
   "outputs": [],
   "source": [
    "# Initializing a conunt vector which consists of\r\n",
    "count_vector = np.float64(np.ones(matrix_possible_dials_crs.shape[0]))"
   ]
  },
  {
   "cell_type": "code",
   "execution_count": 34,
   "metadata": {},
   "outputs": [
    {
     "name": "stdout",
     "output_type": "stream",
     "text": [
      "The sum of all the possible outcomes for 100 hops is 7.801872555471734e+36\n"
     ]
    }
   ],
   "source": [
    "# Fixing the number of hops\r\n",
    "N_hops = 100\r\n",
    "# Initialize the count vector for the trivial case of N_hops = 0, with vectors of 1's\r\n",
    "\r\n",
    "def count_nhops(N):\r\n",
    "    V = count_vector\r\n",
    "    for i in range(N):\r\n",
    "        V = matrix_possible_dials_crs.dot(V)\r\n",
    "    print(\"The sum of all the possible outcomes for {} hops is {}\".format(N_hops, np.sum(V)))\r\n",
    "\r\n",
    "count_nhops(N_hops)"
   ]
  },
  {
   "cell_type": "markdown",
   "metadata": {},
   "source": [
    "# The final result matches with the built in function result."
   ]
  }
 ],
 "metadata": {
  "interpreter": {
   "hash": "b3ba2566441a7c06988d0923437866b63cedc61552a5af99d1f4fb67d367b25f"
  },
  "kernelspec": {
   "display_name": "Python 3.8.8 64-bit ('base': conda)",
   "name": "python3"
  },
  "language_info": {
   "codemirror_mode": {
    "name": "ipython",
    "version": 3
   },
   "file_extension": ".py",
   "mimetype": "text/x-python",
   "name": "python",
   "nbconvert_exporter": "python",
   "pygments_lexer": "ipython3",
   "version": "3.8.8"
  }
 },
 "nbformat": 4,
 "nbformat_minor": 5
}